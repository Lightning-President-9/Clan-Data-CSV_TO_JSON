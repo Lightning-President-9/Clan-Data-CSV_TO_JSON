{
  "nbformat": 4,
  "nbformat_minor": 0,
  "metadata": {
    "colab": {
      "provenance": []
    },
    "kernelspec": {
      "name": "python3",
      "display_name": "Python 3"
    },
    "language_info": {
      "name": "python"
    }
  },
  "cells": [
    {
      "cell_type": "code",
      "execution_count": null,
      "metadata": {
        "colab": {
          "base_uri": "https://localhost:8080/"
        },
        "id": "klw0CkVRj-Sm",
        "outputId": "841d879e-a544-4dd4-a8cb-d37788fc1637"
      },
      "outputs": [
        {
          "output_type": "stream",
          "name": "stdout",
          "text": [
            "CSV data successfully converted to JSON with clanscore and saved to data_APR-MAY_2025.json\n"
          ]
        }
      ],
      "source": [
        "import csv\n",
        "import json\n",
        "import requests\n",
        "\n",
        "def csv_to_json(url, json_file_path):\n",
        "    try:\n",
        "        # Step 1: Fetch CSV data from the URL\n",
        "        response = requests.get(url)\n",
        "        response.raise_for_status()  # Raise an exception for HTTP errors\n",
        "        csv_data = response.text\n",
        "\n",
        "        # Step 2: Parse the CSV data\n",
        "        csv_reader = csv.DictReader(csv_data.splitlines())\n",
        "        data_list = []\n",
        "\n",
        "        # Step 3: Process rows and calculate clanscore\n",
        "        for row in csv_reader:\n",
        "            clanscore = 0\n",
        "            # Add all numeric values in the row to clanscore\n",
        "            for value in row.values():\n",
        "                try:\n",
        "                    # Attempt to convert the value to a int and add it to clanscore\n",
        "                    clanscore += int(value)\n",
        "                except ValueError:\n",
        "                    # Skip non-numeric values (e.g., text fields)\n",
        "                    continue\n",
        "            # Convert clanscore to string and add it as a new column\n",
        "            row['clanscore'] = str(clanscore)\n",
        "            data_list.append(row)\n",
        "\n",
        "        # Step 4: Save data as JSON with UTF-8 encoding and ensure ASCII is False to handle special characters\n",
        "        with open(json_file_path, 'w', encoding='utf-8') as json_file:\n",
        "            json.dump(data_list, json_file, indent=4, ensure_ascii=False)\n",
        "\n",
        "        print(f\"CSV data successfully converted to JSON with clanscore and saved to {json_file_path}\")\n",
        "    except requests.exceptions.RequestException as e:\n",
        "        print(f\"Error fetching CSV: {e}\")\n",
        "    except Exception as e:\n",
        "        print(f\"Error processing data: {e}\")\n",
        "\n",
        "csv_url = \"https://raw.githubusercontent.com/Lightning-President-9/ClanDataRepo/refs/heads/main/Clan%20Members/Monthly%20Analysis/data_APR-MAY_2025.csv\"\n",
        "output_json_path = \"data_APR-MAY_2025.json\"\n",
        "csv_to_json(csv_url, output_json_path)"
      ]
    },
    {
      "cell_type": "code",
      "source": [
        "import requests\n",
        "import pandas as pd\n",
        "from collections import defaultdict\n",
        "\n",
        "# List of (url, month label) tuples in chronological order\n",
        "monthly_files = [\n",
        "    ('https://github.com/Lightning-President-9/ClanDataRepo/raw/main/Clan%20Members/Monthly%20Analysis%20JSON/data_JUL-AUG_2024.json', 'JUL-AUG_2024'),\n",
        "    ('https://github.com/Lightning-President-9/ClanDataRepo/raw/main/Clan%20Members/Monthly%20Analysis%20JSON/data_AUG-SEP_2024.json', 'AUG-SEP_2024'),\n",
        "    ('https://github.com/Lightning-President-9/ClanDataRepo/raw/main/Clan%20Members/Monthly%20Analysis%20JSON/data_SEP-OCT_2024.json', 'SEP-OCT_2024'),\n",
        "    ('https://github.com/Lightning-President-9/ClanDataRepo/raw/main/Clan%20Members/Monthly%20Analysis%20JSON/data_OCT-NOV_2024.json', 'OCT-NOV_2024'),\n",
        "    ('https://github.com/Lightning-President-9/ClanDataRepo/raw/main/Clan%20Members/Monthly%20Analysis%20JSON/data_NOV-DEC_2024.json', 'NOV-DEC_2024'),\n",
        "    ('https://github.com/Lightning-President-9/ClanDataRepo/raw/main/Clan%20Members/Monthly%20Analysis%20JSON/data_DEC-JAN_2025.json', 'DEC-JAN_2025'),\n",
        "    ('https://github.com/Lightning-President-9/ClanDataRepo/raw/main/Clan%20Members/Monthly%20Analysis%20JSON/data_JAN-FEB_2025.json', 'JAN-FEB_2025'),\n",
        "    ('https://github.com/Lightning-President-9/ClanDataRepo/raw/main/Clan%20Members/Monthly%20Analysis%20JSON/data_FEB-MAR_2025.json', 'FEB-MAR_2025'),\n",
        "    ('https://github.com/Lightning-President-9/ClanDataRepo/raw/main/Clan%20Members/Monthly%20Analysis%20JSON/data_MAR-APR_2025.json', 'MAR-APR_2025'),\n",
        "    ('https://github.com/Lightning-President-9/ClanDataRepo/raw/main/Clan%20Members/Monthly%20Analysis%20JSON/data_APR-MAY_2025.json', 'APR-MAY_2025')\n",
        "]\n",
        "\n",
        "# Collect all player data\n",
        "all_data = defaultdict(dict)\n",
        "\n",
        "for url, label in monthly_files:\n",
        "    print(f\"Processing {label}...\")\n",
        "    response = requests.get(url)\n",
        "    response.raise_for_status()\n",
        "    month_data = response.json()\n",
        "\n",
        "    for player in month_data:\n",
        "        name = player['name'].strip()\n",
        "        all_data[name][f'warattack_{label}'] = int(player['warattack'])\n",
        "        all_data[name][f'clancapital_{label}'] = int(player['clancapital'])\n",
        "        all_data[name][f'clangames_{label}'] = int(player['clangames'])\n",
        "        all_data[name][f'clangamesmaxed_{label}'] = int(player['clangamesmaxed'])\n",
        "        all_data[name][f'clanscore_{label}'] = int(player['clanscore'])\n",
        "\n",
        "# Ensure consistent column order: first by month, then by metric\n",
        "metrics = ['warattack', 'clancapital', 'clangames', 'clangamesmaxed', 'clanscore']\n",
        "ordered_columns = [f\"{metric}_{label}\" for label in [label for _, label in monthly_files] for metric in metrics]\n",
        "\n",
        "# Add 'name' as the first column\n",
        "columns = ['name'] + ordered_columns\n",
        "\n",
        "# Create rows\n",
        "rows = []\n",
        "for name, stats in all_data.items():\n",
        "    row = {'name': name}\n",
        "    for col in ordered_columns:\n",
        "        row[col] = stats.get(col, -1)\n",
        "    rows.append(row)\n",
        "\n",
        "# Save as DataFrame\n",
        "df = pd.DataFrame(rows)\n",
        "# clan_monthly_performance_JUL_2024_to_MAY_2025.csv\n",
        "df.to_csv(\"clan_monthly_performance.csv\", index=False)\n",
        "print(\"Saved as clan_monthly_performance.csv\")"
      ],
      "metadata": {
        "id": "K5791CTbk22a",
        "colab": {
          "base_uri": "https://localhost:8080/"
        },
        "outputId": "6f14a615-c64a-467e-df8c-e75a1a46a2fd"
      },
      "execution_count": null,
      "outputs": [
        {
          "output_type": "stream",
          "name": "stdout",
          "text": [
            "Processing JUL-AUG_2024...\n",
            "Processing AUG-SEP_2024...\n",
            "Processing SEP-OCT_2024...\n",
            "Processing OCT-NOV_2024...\n",
            "Processing NOV-DEC_2024...\n",
            "Processing DEC-JAN_2025...\n",
            "Processing JAN-FEB_2025...\n",
            "Processing FEB-MAR_2025...\n",
            "Processing MAR-APR_2025...\n",
            "Processing APR-MAY_2025...\n",
            "Saved as clan_monthly_performance.csv\n"
          ]
        }
      ]
    },
    {
      "cell_type": "code",
      "source": [
        "import pandas as pd\n",
        "\n",
        "# URL of the CSV file\n",
        "csv_file = \"clan_monthly_performance.csv\"\n",
        "\n",
        "# Read the CSV data\n",
        "df = pd.read_csv(csv_file)\n",
        "\n",
        "# Convert DataFrame to JSON format\n",
        "json_data = df.to_json(orient='records', indent=2)\n",
        "\n",
        "# Save to a JSON file\n",
        "json_filename = \"clan_monthly_performance.json\"\n",
        "with open(json_filename, \"w\") as json_file:\n",
        "    json_file.write(json_data)\n",
        "\n",
        "print(f\"Saved JSON file as: {json_filename}\")"
      ],
      "metadata": {
        "colab": {
          "base_uri": "https://localhost:8080/"
        },
        "id": "pDm7LZzviHY-",
        "outputId": "d489e84a-1945-4211-9734-9e2bb4c1bcf6"
      },
      "execution_count": null,
      "outputs": [
        {
          "output_type": "stream",
          "name": "stdout",
          "text": [
            "Saved JSON file as: clan_monthly_performance.json\n"
          ]
        }
      ]
    }
  ]
}